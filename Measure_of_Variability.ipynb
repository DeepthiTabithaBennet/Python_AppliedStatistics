{
  "nbformat": 4,
  "nbformat_minor": 0,
  "metadata": {
    "colab": {
      "provenance": [],
      "collapsed_sections": [],
      "authorship_tag": "ABX9TyOV87J8C5fXRut2bqYuzsIz",
      "include_colab_link": true
    },
    "kernelspec": {
      "name": "python3",
      "display_name": "Python 3"
    },
    "language_info": {
      "name": "python"
    }
  },
  "cells": [
    {
      "cell_type": "markdown",
      "metadata": {
        "id": "view-in-github",
        "colab_type": "text"
      },
      "source": [
        "<a href=\"https://colab.research.google.com/github/DeepthiTabithaBennet/Python_AppliedStatistics/blob/main/Measure_of_Variability.ipynb\" target=\"_parent\"><img src=\"https://colab.research.google.com/assets/colab-badge.svg\" alt=\"Open In Colab\"/></a>"
      ]
    },
    {
      "cell_type": "markdown",
      "metadata": {
        "id": "CL891ro7yhxS"
      },
      "source": [
        "**MEASURE OF VARIABILITY**"
      ]
    },
    {
      "cell_type": "code",
      "metadata": {
        "id": "p3JwtRYEdkiC"
      },
      "source": [
        "# Written by Deepthi Tabitha Bennet\n",
        "\n",
        "import numpy as np\n",
        "import math\n",
        "\n",
        "arr = np.array([32, 56, 47, 87, 98, 36, 87, 38, 97, 4, 26, 94, 95, 90, 24, 7, 90, 63])\n",
        "arr.sort()"
      ],
      "execution_count": null,
      "outputs": []
    },
    {
      "cell_type": "markdown",
      "metadata": {
        "id": "p4n01pG0o4Ms"
      },
      "source": [
        "**Range**"
      ]
    },
    {
      "cell_type": "code",
      "metadata": {
        "colab": {
          "base_uri": "https://localhost:8080/"
        },
        "id": "_cQd7VrXo97b",
        "outputId": "825db697-58e9-42bb-d783-6aa473fc0775"
      },
      "source": [
        "range = arr[len(arr)-1] - arr[0]\n",
        "print(range)"
      ],
      "execution_count": null,
      "outputs": [
        {
          "output_type": "stream",
          "name": "stdout",
          "text": [
            "94\n"
          ]
        }
      ]
    },
    {
      "cell_type": "markdown",
      "metadata": {
        "id": "P9wy5d8jibQE"
      },
      "source": [
        "**Inter Quartile Range**"
      ]
    },
    {
      "cell_type": "code",
      "metadata": {
        "colab": {
          "base_uri": "https://localhost:8080/"
        },
        "id": "lJM23sdpe7ne",
        "outputId": "83bee92b-d957-489f-fde3-e047158cb506"
      },
      "source": [
        "Q1 = np.quantile(arr,.25)\n",
        "Q3 = np.quantile(arr,.75)\n",
        "\n",
        "IQR = Q3 - Q1\n",
        "print(IQR)"
      ],
      "execution_count": null,
      "outputs": [
        {
          "output_type": "stream",
          "name": "stdout",
          "text": [
            "57.0\n"
          ]
        }
      ]
    },
    {
      "cell_type": "markdown",
      "metadata": {
        "id": "-od66TYhpBgb"
      },
      "source": [
        "**Variance**"
      ]
    },
    {
      "cell_type": "code",
      "metadata": {
        "colab": {
          "base_uri": "https://localhost:8080/"
        },
        "id": "9VPJgK-kpGDT",
        "outputId": "c6da936f-bd43-404d-bc7e-46102af40d63"
      },
      "source": [
        "sum = arr.sum()\n",
        "mean = sum / len(arr)\n",
        "\n",
        "difference_squared = 0\n",
        "\n",
        "for i in arr:\n",
        "    difference_squared += (i - mean) ** 2\n",
        "\n",
        "variance = (difference_squared / (len(arr)) - 1)\n",
        "print(variance)"
      ],
      "execution_count": null,
      "outputs": [
        {
          "output_type": "stream",
          "name": "stdout",
          "text": [
            "1048.0277777777778\n"
          ]
        }
      ]
    },
    {
      "cell_type": "markdown",
      "metadata": {
        "id": "CfDqx8FSpHIK"
      },
      "source": [
        "**Standard Deviation**"
      ]
    },
    {
      "cell_type": "code",
      "metadata": {
        "colab": {
          "base_uri": "https://localhost:8080/"
        },
        "id": "nP7IHJI0pKeL",
        "outputId": "432a7890-57f1-49f4-8625-4165f6a71b40"
      },
      "source": [
        "sum = arr.sum()\n",
        "mean = sum / len(arr)\n",
        "\n",
        "difference_squared = 0\n",
        "\n",
        "for i in arr:\n",
        "    difference_squared += (i - mean) ** 2\n",
        "\n",
        "SD = math.sqrt(difference_squared / (len(arr)) - 1)\n",
        "print(SD)"
      ],
      "execution_count": null,
      "outputs": [
        {
          "output_type": "stream",
          "name": "stdout",
          "text": [
            "32.373257138844984\n"
          ]
        }
      ]
    },
    {
      "cell_type": "markdown",
      "metadata": {
        "id": "QPp6ZuddinHD"
      },
      "source": [
        "**Coefficient of Variance**"
      ]
    },
    {
      "cell_type": "code",
      "metadata": {
        "colab": {
          "base_uri": "https://localhost:8080/"
        },
        "id": "zu_vI8A7kBhj",
        "outputId": "b4861865-5dac-4248-bc0b-cd36f06d52b5"
      },
      "source": [
        "COV = (SD / mean) * 100\n",
        "print(COV)"
      ],
      "execution_count": null,
      "outputs": [
        {
          "output_type": "stream",
          "name": "stdout",
          "text": [
            "54.408835527470565\n"
          ]
        }
      ]
    },
    {
      "cell_type": "markdown",
      "metadata": {
        "id": "3Ll6eh-lxIsb"
      },
      "source": [
        "**Z - Score**"
      ]
    },
    {
      "cell_type": "code",
      "metadata": {
        "id": "xE_JeW51xM7i",
        "colab": {
          "base_uri": "https://localhost:8080/"
        },
        "outputId": "d0977237-ca73-4f22-e2da-4062fbce2440"
      },
      "source": [
        "q = int(input(\"Enter the Index of the number, whose Z - Score is to be calculated : \"))\n",
        "z = (arr[q-1] - mean) / SD\n",
        "print(z)"
      ],
      "execution_count": null,
      "outputs": [
        {
          "output_type": "stream",
          "name": "stdout",
          "text": [
            "Enter the Index of the number, whose Z - Score is to be calculated : 3\n",
            "-1.0965841295407748\n"
          ]
        }
      ]
    }
  ]
}