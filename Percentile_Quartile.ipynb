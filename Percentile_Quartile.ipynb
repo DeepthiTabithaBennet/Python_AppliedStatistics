{
  "nbformat": 4,
  "nbformat_minor": 0,
  "metadata": {
    "colab": {
      "provenance": [],
      "collapsed_sections": [],
      "authorship_tag": "ABX9TyN8dM3gWIdgceyg9ajI2jjm",
      "include_colab_link": true
    },
    "kernelspec": {
      "name": "python3",
      "display_name": "Python 3"
    },
    "language_info": {
      "name": "python"
    }
  },
  "cells": [
    {
      "cell_type": "markdown",
      "metadata": {
        "id": "view-in-github",
        "colab_type": "text"
      },
      "source": [
        "<a href=\"https://colab.research.google.com/github/DeepthiTabithaBennet/Python_AppliedStatistics/blob/main/Percentile_Quartile.ipynb\" target=\"_parent\"><img src=\"https://colab.research.google.com/assets/colab-badge.svg\" alt=\"Open In Colab\"/></a>"
      ]
    },
    {
      "cell_type": "code",
      "metadata": {
        "id": "cazqRe9wvLVG"
      },
      "source": [
        "# Written by Deepthi Tabitha Bennet\n",
        "\n",
        "import numpy as np\n",
        "import math\n",
        "\n",
        "arr = [32, 56, 47, 87, 98, 36, 87, 38, 97, 4, 26, 94, 95, 90, 24, 7, 90, 63]\n",
        "arr.sort()"
      ],
      "execution_count": null,
      "outputs": []
    },
    {
      "cell_type": "markdown",
      "metadata": {
        "id": "NZONcT3PwOzC"
      },
      "source": [
        "**Percentile**"
      ]
    },
    {
      "cell_type": "code",
      "metadata": {
        "colab": {
          "base_uri": "https://localhost:8080/"
        },
        "id": "ftYS1KCvw307",
        "outputId": "5b5283b7-83e4-49f6-ba72-25ec0327fea8"
      },
      "source": [
        "p = int(input(\"Enter the Percentile required : \"))\n",
        "\n",
        "# Using Libraries\n",
        "percentile1 = np.percentile(arr, p)\n",
        "print(percentile1)\n",
        "\n",
        "# Without using Libraries\n",
        "\n",
        "i = p * len(arr) / 100\n",
        "\n",
        "if i.is_integer():\n",
        "    x = (arr[int(i-1)] + arr[int(i)]) / 2\n",
        "    print(int(x))\n",
        "\n",
        "else:\n",
        "    x = math.ceil(i)\n",
        "    print(arr[x-1])\n"
      ],
      "execution_count": null,
      "outputs": [
        {
          "output_type": "stream",
          "name": "stdout",
          "text": [
            "Enter the Percentile required : 60\n",
            "87.0\n",
            "87\n"
          ]
        }
      ]
    },
    {
      "cell_type": "markdown",
      "metadata": {
        "id": "MsWoYUx5wOrq"
      },
      "source": [
        "**Quartile**"
      ]
    },
    {
      "cell_type": "code",
      "metadata": {
        "id": "soU_AhUQy0ke",
        "colab": {
          "base_uri": "https://localhost:8080/"
        },
        "outputId": "176e41d1-c7f7-4414-89fb-64c3c4475be4"
      },
      "source": [
        "# Using Libraries\n",
        "\n",
        "Q1 = np.quantile(arr,.25)\n",
        "print(\"The Quartile Q1 is : \", Q1)\n",
        "\n",
        "Q2 = np.quantile(arr,.50)\n",
        "print(\"The Quartile Q2 is : \", Q2)\n",
        "\n",
        "Q3 = np.quantile(arr,.75)\n",
        "print(\"The Quartile Q3 is : \", Q3)\n",
        "    \n",
        "# Without using Libraries\n",
        "\n",
        "n = len (arr)\n",
        "\n",
        "Q1 = (25/100)*n\n",
        "Q2 = (50/100)*n\n",
        "Q3 = (75/100)*n\n",
        "\n",
        "if Q1.is_integer():\n",
        "    x = (arr[int(Q1-1)] + arr[int(Q1)]) / 2\n",
        "    print(\"The Quartile Q1 is : \", int(x))\n",
        "else:\n",
        "    x = math.ceil(Q1)\n",
        "    print(\"The Quartile Q1 is : \", arr[x-1] + 1)\n",
        "\n",
        "if Q2.is_integer():\n",
        "    z = (arr[int(Q2-1)] + arr[int(Q2)]) / 2\n",
        "    print(\"The Quartile Q2 is : \", int(z))\n",
        "else:\n",
        "    z = math.ceil(Q2)\n",
        "    print(\"The Quartile Q2 is : \", arr[z-1])\n",
        "if Q3.is_integer():\n",
        "    y = (arr[int(Q3-1)] + arr[int(Q3)]) / 2\n",
        "    print(\"The Quartile Q3 is : \",int(y))\n",
        "else:\n",
        "    y = math.ceil(Q3)\n",
        "    print(\"The Quartile Q3 is : \", arr[y-1])\n"
      ],
      "execution_count": null,
      "outputs": [
        {
          "output_type": "stream",
          "name": "stdout",
          "text": [
            "The Quartile Q1 is :  33.0\n",
            "The Quartile Q2 is :  59.5\n",
            "The Quartile Q3 is :  90.0\n",
            "The Quartile Q1 is :  33\n",
            "The Quartile Q2 is :  59\n",
            "The Quartile Q3 is :  90\n"
          ]
        }
      ]
    }
  ]
}