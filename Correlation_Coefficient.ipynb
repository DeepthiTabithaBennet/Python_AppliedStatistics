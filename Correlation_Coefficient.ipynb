{
  "nbformat": 4,
  "nbformat_minor": 0,
  "metadata": {
    "colab": {
      "provenance": [],
      "authorship_tag": "ABX9TyMSWXRsR+ZM4zaYgDeZCeXm",
      "include_colab_link": true
    },
    "kernelspec": {
      "name": "python3",
      "display_name": "Python 3"
    },
    "language_info": {
      "name": "python"
    }
  },
  "cells": [
    {
      "cell_type": "markdown",
      "metadata": {
        "id": "view-in-github",
        "colab_type": "text"
      },
      "source": [
        "<a href=\"https://colab.research.google.com/github/DeepthiTabithaBennet/Python_AppliedStatistics/blob/main/Correlation_Coefficient.ipynb\" target=\"_parent\"><img src=\"https://colab.research.google.com/assets/colab-badge.svg\" alt=\"Open In Colab\"/></a>"
      ]
    },
    {
      "cell_type": "code",
      "metadata": {
        "id": "JkA4vb9n6cx4"
      },
      "source": [
        "# Written by Deepthi Tabitha Bennet\n",
        "\n",
        "import math "
      ],
      "execution_count": null,
      "outputs": []
    },
    {
      "cell_type": "code",
      "metadata": {
        "colab": {
          "base_uri": "https://localhost:8080/"
        },
        "id": "7OqrQ8Pc6wnS",
        "outputId": "030c92bc-de23-406c-db01-5076f28ca75b"
      },
      "source": [
        "# function that returns correlation coefficient.\n",
        "def correlationCoefficient(X, Y, n) :\n",
        "  sum_X = 0\n",
        "  sum_Y = 0\n",
        "  sum_XY = 0\n",
        "  squareSum_X = 0\n",
        "  squareSum_Y = 0\n",
        "\n",
        "  i = 0\n",
        "  while i < n :\n",
        "    # sum of elements of array X.\n",
        "    sum_X = sum_X + X[i]\n",
        "\t\t\n",
        "    # sum of elements of array Y.\n",
        "    sum_Y = sum_Y + Y[i]\n",
        "\t\t\n",
        "\t\t# sum of X[i] * Y[i].\n",
        "    sum_XY = sum_XY + X[i] * Y[i]\n",
        "\t\t\n",
        "\t\t# sum of square of array elements.\n",
        "    squareSum_X = squareSum_X + X[i] * X[i]\n",
        "    squareSum_Y = squareSum_Y + Y[i] * Y[i]\n",
        "\t\t\n",
        "    i = i + 1\n",
        "\t\n",
        "  # use formula for calculating correlation\n",
        "\t# coefficient.\n",
        "  corr = (float)(n * sum_XY - sum_X * sum_Y) / (float)(math.sqrt((n * squareSum_X - sum_X * sum_X)* (n * squareSum_Y - sum_Y * sum_Y)))\n",
        "  return corr\n",
        "\t\n",
        "# Driver function\n",
        "X = [15, 18, 21, 24, 27]\n",
        "Y = [25, 25, 27, 31, 32]\n",
        "\t\n",
        "# Find the size of array.\n",
        "n = len(X)\n",
        "\n",
        "# Function call to correlationCoefficient.\n",
        "print ('{0:.6f}'.format(correlationCoefficient(X, Y, n)))"
      ],
      "execution_count": null,
      "outputs": [
        {
          "output_type": "stream",
          "name": "stdout",
          "text": [
            "0.953463\n"
          ]
        }
      ]
    }
  ]
}