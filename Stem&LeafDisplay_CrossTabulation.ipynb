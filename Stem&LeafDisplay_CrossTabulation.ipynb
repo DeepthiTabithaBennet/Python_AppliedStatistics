{
  "nbformat": 4,
  "nbformat_minor": 0,
  "metadata": {
    "colab": {
      "provenance": [],
      "authorship_tag": "ABX9TyOkPw5OKBHEeeVu/lIDPZuA",
      "include_colab_link": true
    },
    "kernelspec": {
      "name": "python3",
      "display_name": "Python 3"
    },
    "language_info": {
      "name": "python"
    }
  },
  "cells": [
    {
      "cell_type": "markdown",
      "metadata": {
        "id": "view-in-github",
        "colab_type": "text"
      },
      "source": [
        "<a href=\"https://colab.research.google.com/github/DeepthiTabithaBennet/Python_AppliedStatistics/blob/main/Stem%26LeafDisplay_CrossTabulation.ipynb\" target=\"_parent\"><img src=\"https://colab.research.google.com/assets/colab-badge.svg\" alt=\"Open In Colab\"/></a>"
      ]
    },
    {
      "cell_type": "markdown",
      "metadata": {
        "id": "TuCzqvKPvrPE"
      },
      "source": [
        "**Stem and Leaf Display**"
      ]
    },
    {
      "cell_type": "code",
      "metadata": {
        "id": "hcJrM0A5uwjT"
      },
      "source": [
        "# Written by Deepthi Tabitha Bennet\n",
        "\n",
        "!pip install stemgraphic"
      ],
      "execution_count": null,
      "outputs": []
    },
    {
      "cell_type": "code",
      "metadata": {
        "id": "IoRuQCM7ovW-"
      },
      "source": [
        "import stemgraphic\n",
        "  \n",
        "data = [23, 56, 76, 34, 87, 56, 98, 12, 46, 98, 9, 34, 56, 76, 35, 12, 84, 36, 45, 23, 12, 87, 3, 78, 94, 47]\n",
        "  \n",
        "stemgraphic.stem_graphic(data, scale = 10)"
      ],
      "execution_count": null,
      "outputs": []
    },
    {
      "cell_type": "markdown",
      "metadata": {
        "id": "-fgwBjOQwIRq"
      },
      "source": [
        "**Cross Tabulation**"
      ]
    },
    {
      "cell_type": "code",
      "metadata": {
        "id": "LbkOj8xPx72N"
      },
      "source": [
        "# importing packages\n",
        "import pandas\n",
        "import numpy\n",
        "\n",
        "# creating some data\n",
        "a = numpy.array([\"Bad\", \"Good\", \"Very Good\", \"Excellent\", \"Excellent\", \"Very Good\", \"Good\", \"Bad\",\n",
        "\t\t\t\t\"Bad\", \"Good\", \"Very Good\", \"Excellent\", \"Excellent\", \"Very Good\", \"Good\", \"Bad\",\n",
        "\t\t\t\t\"Bad\", \"Good\", \"Very Good\", \"Excellent\", \"Excellent\", \"Very Good\", \"Good\", \"Bad\",\n",
        "\t\t\t\t\"Bad\", \"Good\", \"Very Good\", \"Excellent\", \"Excellent\", \"Very Good\", \"Good\", \"Bad\"],\n",
        "\t\t\t\tdtype=object)\n",
        "\n",
        "b = numpy.array([\"0 - 100\", \"100 - 250\", \"250 - 500\", \"500 - 1000\", \"1000 - 2500\", \"2500 - 5000\", \"5000 - 7500\", \"7500 - 10000\", \"10000 - 15000\", \"15000 - 20000\", \"20000 - 30000\", \"Above 30000\", \n",
        "\t\t\t\t\"0 - 100\", \"100 - 250\", \"250 - 500\", \"500 - 1000\", \"1000 - 2500\", \"2500 - 5000\", \"5000 - 7500\", \"7500 - 10000\", \"10000 - 15000\", \"15000 - 20000\", \"20000 - 30000\", \"Above 30000\",\n",
        "\t\t\t\t\"0 - 100\", \"100 - 250\", \"250 - 500\", \"500 - 1000\", \"1000 - 2500\", \"2500 - 5000\", \"5000 - 7500\", \"7500 - 10000\"],\n",
        "\t\t\t\tdtype=object)\n",
        "\n",
        "# form the cross tab\n",
        "pandas.crosstab(b, a, rownames=['Cost (in Rs.)'], colnames=['Rating'])\n"
      ],
      "execution_count": null,
      "outputs": []
    }
  ]
}