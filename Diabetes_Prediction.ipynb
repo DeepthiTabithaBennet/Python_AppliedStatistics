{
  "nbformat": 4,
  "nbformat_minor": 0,
  "metadata": {
    "kernelspec": {
      "display_name": "Python 3",
      "language": "python",
      "name": "python3"
    },
    "language_info": {
      "codemirror_mode": {
        "name": "ipython",
        "version": 3
      },
      "file_extension": ".py",
      "mimetype": "text/x-python",
      "name": "python",
      "nbconvert_exporter": "python",
      "pygments_lexer": "ipython3",
      "version": "3.6.8"
    },
    "colab": {
      "provenance": [],
      "include_colab_link": true
    }
  },
  "cells": [
    {
      "cell_type": "markdown",
      "metadata": {
        "id": "view-in-github",
        "colab_type": "text"
      },
      "source": [
        "<a href=\"https://colab.research.google.com/github/DeepthiTabithaBennet/Python_AppliedStatistics/blob/main/Diabetes_Prediction.ipynb\" target=\"_parent\"><img src=\"https://colab.research.google.com/assets/colab-badge.svg\" alt=\"Open In Colab\"/></a>"
      ]
    },
    {
      "cell_type": "markdown",
      "metadata": {
        "id": "NgTqPP-qJuoK"
      },
      "source": [
        "# Predicting Diabetes\n",
        "\n",
        "`Diabetes.csv` and is [from Kaggle](https://www.kaggle.com/uciml/pima-indians-diabetes-database). We have several questions - what information is more correlated with a positive diagnosis, and if we can only ask two questions to a patient, what should we ask and how would we give them a risk of being diagnosed.\n",
        "\n",
        "This is a machine learning database, and normally we'd just extract features, feed to a ML algorithm and sit back and relax. But we'll get our hands dirty so that you can learn more."
      ]
    },
    {
      "cell_type": "code",
      "metadata": {
        "id": "ivXJK1bFJuoM"
      },
      "source": [
        "import numpy as np\n",
        "import matplotlib.pyplot as plt\n",
        "import pandas as pd\n",
        "\n",
        "df_original = pd.read_csv(\"Diabetes.csv\")\n",
        "df_original.head()"
      ],
      "execution_count": null,
      "outputs": []
    },
    {
      "cell_type": "code",
      "metadata": {
        "id": "jwwg4cDnJuoN"
      },
      "source": [
        "df = df_original.drop([\"Pregnancies\", \"DiabetesPedigreeFunction\"], axis=1)\n",
        "pd.plotting.scatter_matrix(df, figsize=(6,6), s=2);"
      ],
      "execution_count": null,
      "outputs": []
    },
    {
      "cell_type": "markdown",
      "metadata": {
        "id": "sbky-EjKJuoO"
      },
      "source": [
        "Let first answer the question: *What information is most correlated with diabetes?*"
      ]
    },
    {
      "cell_type": "code",
      "metadata": {
        "id": "DMmKfbtPJuoO"
      },
      "source": [
        "df.corr()"
      ],
      "execution_count": null,
      "outputs": []
    },
    {
      "cell_type": "code",
      "metadata": {
        "id": "16VM_6ekJuoO"
      },
      "source": [
        "import seaborn as sb\n",
        "sb.heatmap(df.corr(), annot=True, cmap=\"viridis\");"
      ],
      "execution_count": null,
      "outputs": []
    },
    {
      "cell_type": "markdown",
      "metadata": {
        "id": "aRWCloi1JuoO"
      },
      "source": [
        "From the correlations above, a naive approach might be to take the top correlated observables and drill down into them. In our case, its Glucose, BMI and Age."
      ]
    },
    {
      "cell_type": "code",
      "metadata": {
        "id": "mMpWNHULJuoP"
      },
      "source": [
        "df2 = df[[\"Glucose\", \"BMI\", \"Age\", \"Outcome\"]]\n",
        "df2.head()"
      ],
      "execution_count": null,
      "outputs": []
    },
    {
      "cell_type": "code",
      "metadata": {
        "id": "wMiRjg7JJuoP"
      },
      "source": [
        "pd.plotting.scatter_matrix(df2, s=4);"
      ],
      "execution_count": null,
      "outputs": []
    },
    {
      "cell_type": "markdown",
      "metadata": {
        "id": "Jggol-ozJuoP"
      },
      "source": [
        "Lucky we visualised this! Look at the histograms for Glucose and BMI - the spikes at zero are indicative that the dataset is using the value zero for when there is no data. Lets filter these out. And lets also drop age to keep this shorter."
      ]
    },
    {
      "cell_type": "code",
      "metadata": {
        "id": "HQvBPJe3JuoP"
      },
      "source": [
        "df3 = df2.loc[(df2[\"Glucose\"] > 1) & (df2[\"BMI\"] > 1), [\"Glucose\", \"BMI\", \"Outcome\"]]\n",
        "df3.head()"
      ],
      "execution_count": null,
      "outputs": []
    },
    {
      "cell_type": "code",
      "metadata": {
        "id": "tQnTC0EkJuoQ"
      },
      "source": [
        "df_y = df3.loc[df3[\"Outcome\"] == 1, [\"Glucose\", \"BMI\"]]\n",
        "df_n = df3.loc[df3[\"Outcome\"] == 0, [\"Glucose\", \"BMI\"]]\n",
        "\n",
        "plt.scatter(df_y[\"Glucose\"], df_y[\"BMI\"], c=\"w\", s=1, label=\"Has Diabetes\")\n",
        "plt.scatter(df_n[\"Glucose\"], df_n[\"BMI\"], s=1, label=\"No Diabetes\")\n",
        "plt.legend(loc=2)\n",
        "plt.xlabel(\"Glucose\")\n",
        "plt.ylabel(\"BMI\");"
      ],
      "execution_count": null,
      "outputs": []
    },
    {
      "cell_type": "code",
      "metadata": {
        "scrolled": false,
        "id": "0i36cqsKJuoQ"
      },
      "source": [
        "pd.plotting.scatter_matrix(df_y)\n",
        "pd.plotting.scatter_matrix(df_n);"
      ],
      "execution_count": null,
      "outputs": []
    },
    {
      "cell_type": "markdown",
      "metadata": {
        "id": "vAf0klcEJuoQ"
      },
      "source": [
        "So its not perfect, but we can probably do an alright job approximating both these distributions as Gaussians.\n",
        "\n",
        "Let's also add into the mix a test patient that comes in, with Glucose of 140 and BMI of 35. What is his chance of being diagnosed?"
      ]
    },
    {
      "cell_type": "code",
      "metadata": {
        "id": "kAKepdiFJuoQ"
      },
      "source": [
        "from scipy.stats import multivariate_normal as mn\n",
        "prob_test = []\n",
        "test_point = [140, 35]\n",
        "x, y = np.meshgrid(np.linspace(50, 200, 20), np.linspace(10, 50, 20), indexing='ij')\n",
        "points = np.dstack((x.flatten(), y.flatten()))"
      ],
      "execution_count": null,
      "outputs": []
    },
    {
      "cell_type": "code",
      "metadata": {
        "id": "w472Pxj2JuoR"
      },
      "source": [
        "for d, l in zip([df_y, df_n], [\"Yes\", \"No\"]):\n",
        "    is_yes = l == \"Yes\"\n",
        "    mean = np.mean(d)\n",
        "    cov = np.cov(d, rowvar=0)\n",
        "    probs = mn.pdf(points, mean, cov).reshape(x.shape)\n",
        "    prob_test.append(mn.pdf(test_point, mean, cov))\n",
        "    plt.contour(x, y, probs, \n",
        "                cmap=\"viridis\" if is_yes else \"magma\", \n",
        "                linestyles=\"-\" if is_yes else \"--\")\n",
        "    marker = \".\" if is_yes else \"+\"\n",
        "    color = \"g\" if is_yes else \"y\"\n",
        "    plt.scatter(d[\"Glucose\"], d[\"BMI\"], c=color, marker=marker, s=20, alpha=0.3, label=l)\n",
        "plt.axvline(test_point[0], ls=\":\", lw=1)\n",
        "plt.axhline(test_point[1], ls=\":\", lw=1)\n",
        "plt.legend(loc=2)\n",
        "plt.xlabel(\"Glucose\")\n",
        "plt.ylabel(\"BMI\");"
      ],
      "execution_count": null,
      "outputs": []
    },
    {
      "cell_type": "code",
      "metadata": {
        "id": "uMoeYAXcJuoR"
      },
      "source": [
        "num_y = df_y.shape[0]\n",
        "num_n = df_n.shape[0]\n",
        "\n",
        "prob_diagnosis = num_y * prob_test[0] / (num_y * prob_test[0] + num_n * prob_test[1])\n",
        "print(f\"Positive diagnosis chance is {100 * prob_diagnosis:.2f}%\")"
      ],
      "execution_count": null,
      "outputs": []
    },
    {
      "cell_type": "markdown",
      "metadata": {
        "id": "LOn_v2yuJuoS"
      },
      "source": [
        "This might seem odd. Given the test patient is right on the maximum of our model for the diabetes patients, surely there should be a larger chance, right? Nope!\n",
        "\n",
        "The reason is because - even though the distribution probability is higher, there are far more patients without diabetes than with. We can only directly compare the two distributions if they have equal probability all up (same number of people with and without). This is rarely the case, and so we have to weight them. In a Bayesian formalise, we are modifying our model prior."
      ]
    },
    {
      "cell_type": "code",
      "metadata": {
        "id": "5p5SgpnsJuoS"
      },
      "source": [],
      "execution_count": null,
      "outputs": []
    }
  ]
}