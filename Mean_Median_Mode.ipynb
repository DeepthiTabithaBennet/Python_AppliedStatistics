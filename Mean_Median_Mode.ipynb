{
  "nbformat": 4,
  "nbformat_minor": 0,
  "metadata": {
    "colab": {
      "provenance": [],
      "collapsed_sections": [],
      "authorship_tag": "ABX9TyN7ZUg62afIuPWZjGbBV9eF",
      "include_colab_link": true
    },
    "kernelspec": {
      "name": "python3",
      "display_name": "Python 3"
    },
    "language_info": {
      "name": "python"
    }
  },
  "cells": [
    {
      "cell_type": "markdown",
      "metadata": {
        "id": "view-in-github",
        "colab_type": "text"
      },
      "source": [
        "<a href=\"https://colab.research.google.com/github/DeepthiTabithaBennet/Python_AppliedStatistics/blob/main/Mean_Median_Mode.ipynb\" target=\"_parent\"><img src=\"https://colab.research.google.com/assets/colab-badge.svg\" alt=\"Open In Colab\"/></a>"
      ]
    },
    {
      "cell_type": "markdown",
      "metadata": {
        "id": "MteebtjDu5rU"
      },
      "source": [
        "**Central Tendency of Data**"
      ]
    },
    {
      "cell_type": "code",
      "metadata": {
        "id": "JdiuOctquOSx"
      },
      "source": [
        "# Written by Deepthi Tabitha Bennet\n",
        "\n",
        "import numpy as np\n",
        "import statistics\n",
        "import math"
      ],
      "execution_count": null,
      "outputs": []
    },
    {
      "cell_type": "code",
      "metadata": {
        "colab": {
          "base_uri": "https://localhost:8080/"
        },
        "id": "tvJLKIV28Wbq",
        "outputId": "ddbf4ccf-3c90-4486-dcda-c156684e4247"
      },
      "source": [
        "data = np.array([1,2,4,9,6,3,2,4,6,9,0,8,9,5,3,5,8,5,4,9])\n",
        "Data = [1,2,4,9,6,3,2,4,6,9,0,8,9,5,3,5,8,5,4,9]\n",
        "sum = data.sum()\n",
        "print(sum)"
      ],
      "execution_count": null,
      "outputs": [
        {
          "output_type": "stream",
          "name": "stdout",
          "text": [
            "102\n"
          ]
        }
      ]
    },
    {
      "cell_type": "markdown",
      "metadata": {
        "id": "S_WThNZ-x_Zz"
      },
      "source": [
        "**Mean**"
      ]
    },
    {
      "cell_type": "code",
      "metadata": {
        "id": "9LkiFMOkyA0k",
        "colab": {
          "base_uri": "https://localhost:8080/"
        },
        "outputId": "e5f27fed-8073-4e69-ed25-449dcb5b0af7"
      },
      "source": [
        "# Without using Libraries\n",
        "mean1 = sum // len(data)\n",
        "print(mean1)\n",
        "\n",
        "# Using Libraries\n",
        "mean2 = statistics.mean(data)\n",
        "print(mean2)"
      ],
      "execution_count": null,
      "outputs": [
        {
          "output_type": "stream",
          "name": "stdout",
          "text": [
            "5\n",
            "5\n"
          ]
        }
      ]
    },
    {
      "cell_type": "markdown",
      "metadata": {
        "id": "2D2HPtJjygGj"
      },
      "source": [
        "**Median**"
      ]
    },
    {
      "cell_type": "code",
      "metadata": {
        "id": "aL5CChrEyhQ7",
        "colab": {
          "base_uri": "https://localhost:8080/"
        },
        "outputId": "a5762490-f4d3-4f2c-b518-6f7f2753c052"
      },
      "source": [
        "# Without using Libraries\n",
        "n = len(data)\n",
        "data.sort()\n",
        "\n",
        "if n % 2 == 0:\n",
        "    median1a = data[n//2]\n",
        "    median1b = data[n//2 - 1]\n",
        "    median1 = (median1a + median1b)/2\n",
        "else:\n",
        "    median1 = data[n//2]\n",
        "\n",
        "print(median1)\n",
        "\n",
        "# Using Libraries\n",
        "median2 = statistics.median(data)\n",
        "print(median2)"
      ],
      "execution_count": null,
      "outputs": [
        {
          "output_type": "stream",
          "name": "stdout",
          "text": [
            "5.0\n",
            "5.0\n"
          ]
        }
      ]
    },
    {
      "cell_type": "markdown",
      "metadata": {
        "id": "xsapd9PQ1KLK"
      },
      "source": [
        "**Mode**"
      ]
    },
    {
      "cell_type": "code",
      "metadata": {
        "id": "ajG-q6Nk1OIK",
        "colab": {
          "base_uri": "https://localhost:8080/"
        },
        "outputId": "e3bfa02d-c764-44ec-9c6c-ba8d868a326f"
      },
      "source": [
        "# Without using Libraries\n",
        "freq = {}\n",
        "\n",
        "for value in data:\n",
        "    freq[value] = freq.get(value, 0) + 1\n",
        "\n",
        "MostFreq = max(freq.values())\n",
        "mode1 = [key for key, value in freq.items() if value == MostFreq]\n",
        "\n",
        "print(mode1[0])\n",
        "\n",
        "mode3 = max(data, key = Data.count)\n",
        "print(mode3)\n",
        "\n",
        "# Using Libraries\n",
        "mode2 = statistics.mode(data)\n",
        "print(mode2)"
      ],
      "execution_count": null,
      "outputs": [
        {
          "output_type": "stream",
          "name": "stdout",
          "text": [
            "9\n",
            "9\n",
            "9\n"
          ]
        }
      ]
    }
  ]
}